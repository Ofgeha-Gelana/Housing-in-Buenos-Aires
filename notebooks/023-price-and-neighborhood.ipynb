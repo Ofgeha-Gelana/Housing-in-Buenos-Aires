{
 "cells": [
  {
   "cell_type": "markdown",
   "metadata": {},
   "source": [
    "<font size=\"+3\"><strong>2.3. Predicting Price with Neighborhood</strong></font>"
   ]
  },
  {
   "cell_type": "code",
   "execution_count": 6,
   "metadata": {},
   "outputs": [],
   "source": [
    "from glob import glob\n",
    "\n",
    "import matplotlib.pyplot as plt\n",
    "import numpy as np\n",
    "import pandas as pd\n",
    "from category_encoders import OneHotEncoder\n",
    "from sklearn.linear_model import LinearRegression, Ridge  # noqa F401\n",
    "from sklearn.metrics import mean_absolute_error\n",
    "from sklearn.pipeline import make_pipeline\n",
    "from sklearn.utils.validation import check_is_fitted"
   ]
  },
  {
   "cell_type": "markdown",
   "metadata": {},
   "source": [
    "# Prepare Data"
   ]
  },
  {
   "cell_type": "markdown",
   "metadata": {},
   "source": [
    "## Import"
   ]
  },
  {
   "cell_type": "code",
   "execution_count": 7,
   "metadata": {},
   "outputs": [],
   "source": [
    "def wrangle(filepath):\n",
    "    # Read CSV file\n",
    "    df = pd.read_csv(filepath)\n",
    "\n",
    "    # Subset data: Apartments in \"Capital Federal\", less than 400,000\n",
    "    mask_ba = df[\"place_with_parent_names\"].str.contains(\"Capital Federal\")\n",
    "    mask_apt = df[\"property_type\"] == \"apartment\"\n",
    "    mask_price = df[\"price_aprox_usd\"] < 400_000\n",
    "    df = df[mask_ba & mask_apt & mask_price]\n",
    "\n",
    "    # Subset data: Remove outliers for \"surface_covered_in_m2\"\n",
    "    low, high = df[\"surface_covered_in_m2\"].quantile([0.1, 0.9])\n",
    "    mask_area = df[\"surface_covered_in_m2\"].between(low, high)\n",
    "    df = df[mask_area]\n",
    "\n",
    "    # Split \"lat-lon\" column\n",
    "    df[[\"lat\", \"lon\"]] = df[\"lat-lon\"].str.split(\",\", expand=True).astype(float)\n",
    "    df.drop(columns=\"lat-lon\", inplace=True)\n",
    "    \n",
    "    # Extract neighborhood\n",
    "    df['neighborhood'] = df[\"place_with_parent_names\"].str.split(\"|\", expand=True)[3]\n",
    "    df.drop(columns=\"place_with_parent_names\", inplace = True)\n",
    "\n",
    "    return df"
   ]
  },
  {
   "cell_type": "markdown",
   "metadata": {},
   "source": [
    "**Task 2.3.1:** Use [`glob`](https://docs.python.org/3/library/glob.html#glob.glob) to create a list that contains the filenames for all the Buenos Aires real estate CSV files in the `data` directory. Assign this list to the variable name `files`."
   ]
  },
  {
   "cell_type": "code",
   "execution_count": 8,
   "metadata": {},
   "outputs": [
    {
     "data": {
      "text/plain": [
       "['../data/raw\\\\buenos-aires-real-estate-1.csv',\n",
       " '../data/raw\\\\buenos-aires-real-estate-2.csv',\n",
       " '../data/raw\\\\buenos-aires-real-estate-3.csv',\n",
       " '../data/raw\\\\buenos-aires-real-estate-4.csv',\n",
       " '../data/raw\\\\buenos-aires-real-estate-5.csv']"
      ]
     },
     "execution_count": 8,
     "metadata": {},
     "output_type": "execute_result"
    }
   ],
   "source": [
    "files = glob('../data/raw/buenos-aires-real-estate-*.csv')\n",
    "files"
   ]
  },
  {
   "cell_type": "markdown",
   "metadata": {},
   "source": [
    "**Task 2.3.2:** Use your `wrangle` function in a `for` loop to create a list named `frames`. The list should the cleaned DataFrames created from the CSV filenames your collected in `files`."
   ]
  },
  {
   "cell_type": "code",
   "execution_count": 9,
   "metadata": {},
   "outputs": [],
   "source": [
    "frames = []\n",
    "for file in files:\n",
    "    df = wrangle(file)\n",
    "    frames.append(df)"
   ]
  },
  {
   "cell_type": "markdown",
   "metadata": {},
   "source": [
    "**Task 2.3.3:** Use [`pd.concat`](https://pandas.pydata.org/docs/reference/api/pandas.concat.html) to concatenate the items in `frames` into a single DataFrame `df`. Make sure you set the `ignore_index` argument to `True`."
   ]
  },
  {
   "cell_type": "code",
   "execution_count": 13,
   "metadata": {},
   "outputs": [
    {
     "data": {
      "text/html": [
       "<div>\n",
       "<style scoped>\n",
       "    .dataframe tbody tr th:only-of-type {\n",
       "        vertical-align: middle;\n",
       "    }\n",
       "\n",
       "    .dataframe tbody tr th {\n",
       "        vertical-align: top;\n",
       "    }\n",
       "\n",
       "    .dataframe thead th {\n",
       "        text-align: right;\n",
       "    }\n",
       "</style>\n",
       "<table border=\"1\" class=\"dataframe\">\n",
       "  <thead>\n",
       "    <tr style=\"text-align: right;\">\n",
       "      <th></th>\n",
       "      <th>operation</th>\n",
       "      <th>property_type</th>\n",
       "      <th>price</th>\n",
       "      <th>currency</th>\n",
       "      <th>price_aprox_local_currency</th>\n",
       "      <th>price_aprox_usd</th>\n",
       "      <th>surface_total_in_m2</th>\n",
       "      <th>surface_covered_in_m2</th>\n",
       "      <th>price_usd_per_m2</th>\n",
       "      <th>price_per_m2</th>\n",
       "      <th>floor</th>\n",
       "      <th>rooms</th>\n",
       "      <th>expenses</th>\n",
       "      <th>properati_url</th>\n",
       "      <th>lat</th>\n",
       "      <th>lon</th>\n",
       "      <th>neighborhood</th>\n",
       "    </tr>\n",
       "  </thead>\n",
       "  <tbody>\n",
       "    <tr>\n",
       "      <th>0</th>\n",
       "      <td>sell</td>\n",
       "      <td>apartment</td>\n",
       "      <td>129000.0</td>\n",
       "      <td>USD</td>\n",
       "      <td>1955949.6</td>\n",
       "      <td>129000.0</td>\n",
       "      <td>76.0</td>\n",
       "      <td>70.0</td>\n",
       "      <td>1697.368421</td>\n",
       "      <td>1842.857143</td>\n",
       "      <td>NaN</td>\n",
       "      <td>NaN</td>\n",
       "      <td>NaN</td>\n",
       "      <td>http://chacarita.properati.com.ar/10qlv_venta_...</td>\n",
       "      <td>-34.584651</td>\n",
       "      <td>-58.454693</td>\n",
       "      <td>Chacarita</td>\n",
       "    </tr>\n",
       "    <tr>\n",
       "      <th>1</th>\n",
       "      <td>sell</td>\n",
       "      <td>apartment</td>\n",
       "      <td>87000.0</td>\n",
       "      <td>USD</td>\n",
       "      <td>1319128.8</td>\n",
       "      <td>87000.0</td>\n",
       "      <td>48.0</td>\n",
       "      <td>42.0</td>\n",
       "      <td>1812.500000</td>\n",
       "      <td>2071.428571</td>\n",
       "      <td>NaN</td>\n",
       "      <td>NaN</td>\n",
       "      <td>NaN</td>\n",
       "      <td>http://villa-luro.properati.com.ar/12m82_venta...</td>\n",
       "      <td>-34.638979</td>\n",
       "      <td>-58.500115</td>\n",
       "      <td>Villa Luro</td>\n",
       "    </tr>\n",
       "    <tr>\n",
       "      <th>2</th>\n",
       "      <td>sell</td>\n",
       "      <td>apartment</td>\n",
       "      <td>118000.0</td>\n",
       "      <td>USD</td>\n",
       "      <td>1789163.2</td>\n",
       "      <td>118000.0</td>\n",
       "      <td>NaN</td>\n",
       "      <td>54.0</td>\n",
       "      <td>NaN</td>\n",
       "      <td>2185.185185</td>\n",
       "      <td>NaN</td>\n",
       "      <td>2.0</td>\n",
       "      <td>NaN</td>\n",
       "      <td>http://caballito.properati.com.ar/11wqh_venta_...</td>\n",
       "      <td>-34.615847</td>\n",
       "      <td>-58.459957</td>\n",
       "      <td>Caballito</td>\n",
       "    </tr>\n",
       "    <tr>\n",
       "      <th>3</th>\n",
       "      <td>sell</td>\n",
       "      <td>apartment</td>\n",
       "      <td>57000.0</td>\n",
       "      <td>USD</td>\n",
       "      <td>864256.8</td>\n",
       "      <td>57000.0</td>\n",
       "      <td>42.0</td>\n",
       "      <td>42.0</td>\n",
       "      <td>1357.142857</td>\n",
       "      <td>1357.142857</td>\n",
       "      <td>5.0</td>\n",
       "      <td>2.0</td>\n",
       "      <td>364</td>\n",
       "      <td>http://constitucion.properati.com.ar/k2f0_vent...</td>\n",
       "      <td>-34.625222</td>\n",
       "      <td>-58.382382</td>\n",
       "      <td>Constitución</td>\n",
       "    </tr>\n",
       "    <tr>\n",
       "      <th>4</th>\n",
       "      <td>sell</td>\n",
       "      <td>apartment</td>\n",
       "      <td>90000.0</td>\n",
       "      <td>USD</td>\n",
       "      <td>1364616.0</td>\n",
       "      <td>90000.0</td>\n",
       "      <td>57.0</td>\n",
       "      <td>50.0</td>\n",
       "      <td>1578.947368</td>\n",
       "      <td>1800.000000</td>\n",
       "      <td>NaN</td>\n",
       "      <td>3.0</td>\n",
       "      <td>450</td>\n",
       "      <td>http://once.properati.com.ar/suwa_venta_depart...</td>\n",
       "      <td>-34.610610</td>\n",
       "      <td>-58.412511</td>\n",
       "      <td>Once</td>\n",
       "    </tr>\n",
       "  </tbody>\n",
       "</table>\n",
       "</div>"
      ],
      "text/plain": [
       "  operation property_type     price currency  price_aprox_local_currency  \\\n",
       "0      sell     apartment  129000.0      USD                   1955949.6   \n",
       "1      sell     apartment   87000.0      USD                   1319128.8   \n",
       "2      sell     apartment  118000.0      USD                   1789163.2   \n",
       "3      sell     apartment   57000.0      USD                    864256.8   \n",
       "4      sell     apartment   90000.0      USD                   1364616.0   \n",
       "\n",
       "   price_aprox_usd  surface_total_in_m2  surface_covered_in_m2  \\\n",
       "0         129000.0                 76.0                   70.0   \n",
       "1          87000.0                 48.0                   42.0   \n",
       "2         118000.0                  NaN                   54.0   \n",
       "3          57000.0                 42.0                   42.0   \n",
       "4          90000.0                 57.0                   50.0   \n",
       "\n",
       "   price_usd_per_m2  price_per_m2  floor  rooms expenses  \\\n",
       "0       1697.368421   1842.857143    NaN    NaN      NaN   \n",
       "1       1812.500000   2071.428571    NaN    NaN      NaN   \n",
       "2               NaN   2185.185185    NaN    2.0      NaN   \n",
       "3       1357.142857   1357.142857    5.0    2.0      364   \n",
       "4       1578.947368   1800.000000    NaN    3.0      450   \n",
       "\n",
       "                                       properati_url        lat        lon  \\\n",
       "0  http://chacarita.properati.com.ar/10qlv_venta_... -34.584651 -58.454693   \n",
       "1  http://villa-luro.properati.com.ar/12m82_venta... -34.638979 -58.500115   \n",
       "2  http://caballito.properati.com.ar/11wqh_venta_... -34.615847 -58.459957   \n",
       "3  http://constitucion.properati.com.ar/k2f0_vent... -34.625222 -58.382382   \n",
       "4  http://once.properati.com.ar/suwa_venta_depart... -34.610610 -58.412511   \n",
       "\n",
       "   neighborhood  \n",
       "0     Chacarita  \n",
       "1    Villa Luro  \n",
       "2     Caballito  \n",
       "3  Constitución  \n",
       "4          Once  "
      ]
     },
     "execution_count": 13,
     "metadata": {},
     "output_type": "execute_result"
    }
   ],
   "source": [
    "df = pd.concat(frames, ignore_index=True)\n",
    "df.head()"
   ]
  },
  {
   "cell_type": "markdown",
   "metadata": {},
   "source": [
    "**Task 2.3.4:** Modify your `wrangle` function to create a new feature `\"neighborhood\"`. You can find the neighborhood for each property in the `\"place_with_parent_names\"` column. For example, a property with the place name `\"|Argentina|Capital Federal|Palermo|\"` is located in the neighborhood is `\"Palermo\"`. Also, your function should drop the `\"place_with_parent_names\"` column."
   ]
  },
  {
   "cell_type": "markdown",
   "metadata": {},
   "source": [
    "**Task 2.3.5:** Create your feature matrix `X_train` and target vector `y_train`. `X_train` should contain one feature: `\"neighborhood\"`. Your target is `\"price_aprox_usd\"`. "
   ]
  },
  {
   "cell_type": "code",
   "execution_count": 14,
   "metadata": {},
   "outputs": [],
   "source": [
    "target = \"price_aprox_usd\"\n",
    "features = [\"neighborhood\"]\n",
    "y_train = df[target]\n",
    "X_train = df[features]"
   ]
  },
  {
   "cell_type": "markdown",
   "metadata": {},
   "source": [
    "**Task 2.3.6:** Calculate the baseline mean absolute error for your model."
   ]
  },
  {
   "cell_type": "code",
   "execution_count": 15,
   "metadata": {},
   "outputs": [
    {
     "name": "stdout",
     "output_type": "stream",
     "text": [
      "Mean apt price: 132383.83701458524\n",
      "Baseline MAE: 44860.10834274133\n"
     ]
    }
   ],
   "source": [
    "y_mean = y_train.mean()\n",
    "y_pred_baseline = [y_mean] * len(y_train)\n",
    "print(\"Mean apt price:\", y_mean)\n",
    "\n",
    "print(\"Baseline MAE:\", mean_absolute_error(y_train, y_pred_baseline))"
   ]
  },
  {
   "cell_type": "code",
   "execution_count": null,
   "metadata": {},
   "outputs": [],
   "source": []
  }
 ],
 "metadata": {
  "kernelspec": {
   "display_name": ".venv",
   "language": "python",
   "name": "python3"
  },
  "language_info": {
   "codemirror_mode": {
    "name": "ipython",
    "version": 3
   },
   "file_extension": ".py",
   "mimetype": "text/x-python",
   "name": "python",
   "nbconvert_exporter": "python",
   "pygments_lexer": "ipython3",
   "version": "3.12.2"
  }
 },
 "nbformat": 4,
 "nbformat_minor": 2
}
